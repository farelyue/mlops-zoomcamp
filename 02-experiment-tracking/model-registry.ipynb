{
 "cells": [
  {
   "cell_type": "markdown",
   "metadata": {},
   "source": [
    "## MLflow's Model Registry"
   ]
  },
  {
   "cell_type": "markdown",
   "metadata": {},
   "source": [
    "### Interacting with the MLflow tracking server\n",
    "\n",
    "The `MlflowClient` object allows us to interact with : \n",
    "- MLflow Tracking Server that creates and manages experiments and runs.\n",
    "- MLflow Registry Server that creates and manages registered models and model versions. "
   ]
  },
  {
   "cell_type": "markdown",
   "metadata": {},
   "source": [
    "#### Instantiate tracking URI"
   ]
  },
  {
   "cell_type": "code",
   "execution_count": 1,
   "metadata": {},
   "outputs": [],
   "source": [
    "# Set our database's tracking URI\n",
    "from mlflow.tracking import MlflowClient\n",
    "from mlflow.entities import ViewType\n",
    "\n",
    "MLFLOW_TRACKING_URI = \"sqlite:///mlflow.db\"\n",
    "client = MlflowClient(tracking_uri=MLFLOW_TRACKING_URI)"
   ]
  },
  {
   "cell_type": "markdown",
   "metadata": {},
   "source": [
    "#### List of all experiment tracking"
   ]
  },
  {
   "cell_type": "code",
   "execution_count": 2,
   "metadata": {},
   "outputs": [
    {
     "name": "stdout",
     "output_type": "stream",
     "text": [
      "experiment_id:0, experiment_name:Default\n",
      "experiment_id:1, experiment_name:duration-trip\n",
      "experiment_id:2, experiment_name:duration-trip-autolog\n"
     ]
    }
   ],
   "source": [
    "# List of all experiment tracking\n",
    "experiments = client.search_experiments(order_by=[\"experiment_id ASC\"])\n",
    "for experiment in experiments:\n",
    "    print(f'experiment_id:{experiment.experiment_id}, experiment_name:{experiment.name}')"
   ]
  },
  {
   "cell_type": "markdown",
   "metadata": {},
   "source": [
    "#### List of all experiment runs"
   ]
  },
  {
   "cell_type": "code",
   "execution_count": 3,
   "metadata": {},
   "outputs": [],
   "source": [
    "# Timestamp converter function\n",
    "import datetime\n",
    "\n",
    "def convert_timestamp_to_seconds(timestamp):    \n",
    "    # Convert it to a seconds format\n",
    "    timestamp_in_seconds = timestamp / 1000\n",
    "    datetime_converted = datetime.datetime.fromtimestamp(timestamp_in_seconds)\n",
    "    datetime_formatted = datetime_converted.strftime(\"%Y-%m-%d %H:%M:%S\")\n",
    "    return datetime_formatted"
   ]
  },
  {
   "cell_type": "code",
   "execution_count": 9,
   "metadata": {},
   "outputs": [
    {
     "name": "stdout",
     "output_type": "stream",
     "text": [
      "XGBRegressor b09242a9964c4965bc8baa572bc2103b 1729416323278 1729416324851 1.573 6.644320289321216\n",
      "LinearSVR 47e45a45a4e441afa61e6e23cc7624c2 1729415640307 1729415642934 2.627 807.9904772805995\n",
      "ExtraTreesRegressor 794703933ee54ea79264b8d27cea1959 1729414318597 1729415640237 1321.64 6.940426720605602\n",
      "GradientBoostingRegressor 668dbd3cd12547428e8fd65c5b4ae3d6 1729414314111 1729414317862 3.751 6.742303328497426\n",
      "RandomForestRegressor 3982aae14ad24edca76cf903b45350d9 1729413817195 1729414244361 427.166 6.914909840472828\n"
     ]
    }
   ],
   "source": [
    "# List of all experiment runs\n",
    "runs = client.search_runs(\n",
    "    experiment_ids='2',\n",
    "    run_view_type=ViewType.ACTIVE_ONLY\n",
    ")\n",
    "\n",
    "for run in runs[:5]:\n",
    "    print(run.data.tags['estimator_name'], run.info.run_id, run.info.start_time, run.info.end_time, (run.info.end_time - run.info.start_time) / 1000, run.data.metrics['rmse'])"
   ]
  },
  {
   "cell_type": "code",
   "execution_count": 8,
   "metadata": {},
   "outputs": [
    {
     "data": {
      "text/html": [
       "<div>\n",
       "<style scoped>\n",
       "    .dataframe tbody tr th:only-of-type {\n",
       "        vertical-align: middle;\n",
       "    }\n",
       "\n",
       "    .dataframe tbody tr th {\n",
       "        vertical-align: top;\n",
       "    }\n",
       "\n",
       "    .dataframe thead th {\n",
       "        text-align: right;\n",
       "    }\n",
       "</style>\n",
       "<table border=\"1\" class=\"dataframe\">\n",
       "  <thead>\n",
       "    <tr style=\"text-align: right;\">\n",
       "      <th></th>\n",
       "      <th>estimator_name</th>\n",
       "      <th>run_id</th>\n",
       "      <th>start_time</th>\n",
       "      <th>end_time</th>\n",
       "      <th>duration</th>\n",
       "      <th>rmse</th>\n",
       "    </tr>\n",
       "  </thead>\n",
       "  <tbody>\n",
       "    <tr>\n",
       "      <th>0</th>\n",
       "      <td>XGBRegressor</td>\n",
       "      <td>b09242a9964c4965bc8baa572bc2103b</td>\n",
       "      <td>2024-10-20 16:25:23</td>\n",
       "      <td>2024-10-20 16:25:24</td>\n",
       "      <td>1.573</td>\n",
       "      <td>6.644320</td>\n",
       "    </tr>\n",
       "    <tr>\n",
       "      <th>1</th>\n",
       "      <td>LinearSVR</td>\n",
       "      <td>47e45a45a4e441afa61e6e23cc7624c2</td>\n",
       "      <td>2024-10-20 16:14:00</td>\n",
       "      <td>2024-10-20 16:14:02</td>\n",
       "      <td>2.627</td>\n",
       "      <td>807.990477</td>\n",
       "    </tr>\n",
       "    <tr>\n",
       "      <th>2</th>\n",
       "      <td>ExtraTreesRegressor</td>\n",
       "      <td>794703933ee54ea79264b8d27cea1959</td>\n",
       "      <td>2024-10-20 15:51:58</td>\n",
       "      <td>2024-10-20 16:14:00</td>\n",
       "      <td>1321.640</td>\n",
       "      <td>6.940427</td>\n",
       "    </tr>\n",
       "    <tr>\n",
       "      <th>3</th>\n",
       "      <td>GradientBoostingRegressor</td>\n",
       "      <td>668dbd3cd12547428e8fd65c5b4ae3d6</td>\n",
       "      <td>2024-10-20 15:51:54</td>\n",
       "      <td>2024-10-20 15:51:57</td>\n",
       "      <td>3.751</td>\n",
       "      <td>6.742303</td>\n",
       "    </tr>\n",
       "    <tr>\n",
       "      <th>4</th>\n",
       "      <td>RandomForestRegressor</td>\n",
       "      <td>3982aae14ad24edca76cf903b45350d9</td>\n",
       "      <td>2024-10-20 15:43:37</td>\n",
       "      <td>2024-10-20 15:50:44</td>\n",
       "      <td>427.166</td>\n",
       "      <td>6.914910</td>\n",
       "    </tr>\n",
       "  </tbody>\n",
       "</table>\n",
       "</div>"
      ],
      "text/plain": [
       "              estimator_name                            run_id  \\\n",
       "0               XGBRegressor  b09242a9964c4965bc8baa572bc2103b   \n",
       "1                  LinearSVR  47e45a45a4e441afa61e6e23cc7624c2   \n",
       "2        ExtraTreesRegressor  794703933ee54ea79264b8d27cea1959   \n",
       "3  GradientBoostingRegressor  668dbd3cd12547428e8fd65c5b4ae3d6   \n",
       "4      RandomForestRegressor  3982aae14ad24edca76cf903b45350d9   \n",
       "\n",
       "            start_time             end_time  duration        rmse  \n",
       "0  2024-10-20 16:25:23  2024-10-20 16:25:24     1.573    6.644320  \n",
       "1  2024-10-20 16:14:00  2024-10-20 16:14:02     2.627  807.990477  \n",
       "2  2024-10-20 15:51:58  2024-10-20 16:14:00  1321.640    6.940427  \n",
       "3  2024-10-20 15:51:54  2024-10-20 15:51:57     3.751    6.742303  \n",
       "4  2024-10-20 15:43:37  2024-10-20 15:50:44   427.166    6.914910  "
      ]
     },
     "execution_count": 8,
     "metadata": {},
     "output_type": "execute_result"
    }
   ],
   "source": [
    "# Convert it on pandas dataframe format\n",
    "import pandas as pd\n",
    "\n",
    "runs_info = []\n",
    "for run in runs:\n",
    "    runs_info.append({\n",
    "        'estimator_name':run.data.tags['estimator_name'],\n",
    "        'run_id':run.info.run_id,\n",
    "        'start_time':convert_timestamp_to_seconds(run.info.start_time),\n",
    "        'end_time':convert_timestamp_to_seconds(run.info.end_time),\n",
    "        'duration':(run.info.end_time - run.info.start_time)/1000,\n",
    "        'rmse':run.data.metrics['rmse']\n",
    "    })\n",
    "    \n",
    "runs_info_df = pd.DataFrame(runs_info)\n",
    "runs_info_df.head()"
   ]
  },
  {
   "cell_type": "markdown",
   "metadata": {},
   "source": [
    "#### Create a new experiment"
   ]
  },
  {
   "cell_type": "code",
   "execution_count": 16,
   "metadata": {},
   "outputs": [
    {
     "data": {
      "text/plain": [
       "'3'"
      ]
     },
     "execution_count": 16,
     "metadata": {},
     "output_type": "execute_result"
    }
   ],
   "source": [
    "# Create a new experiment\n",
    "client.create_experiment(name=\"new-experiment-tracking\")"
   ]
  },
  {
   "cell_type": "markdown",
   "metadata": {},
   "source": [
    "#### Delete existing experiment"
   ]
  },
  {
   "cell_type": "code",
   "execution_count": 14,
   "metadata": {},
   "outputs": [],
   "source": [
    "# Delete existing experiment by id\n",
    "client.delete_experiment(experiment_id='3')\n",
    "\n",
    "# Permanently delete experiment\n",
    "# mlflow gc --backend-store-uri sqlite:///mlflow.db --experiment-ids 3"
   ]
  },
  {
   "cell_type": "markdown",
   "metadata": {},
   "source": [
    "#### Check the experiment has rmse lower than 7"
   ]
  },
  {
   "cell_type": "code",
   "execution_count": 25,
   "metadata": {},
   "outputs": [
    {
     "data": {
      "text/html": [
       "<div>\n",
       "<style scoped>\n",
       "    .dataframe tbody tr th:only-of-type {\n",
       "        vertical-align: middle;\n",
       "    }\n",
       "\n",
       "    .dataframe tbody tr th {\n",
       "        vertical-align: top;\n",
       "    }\n",
       "\n",
       "    .dataframe thead th {\n",
       "        text-align: right;\n",
       "    }\n",
       "</style>\n",
       "<table border=\"1\" class=\"dataframe\">\n",
       "  <thead>\n",
       "    <tr style=\"text-align: right;\">\n",
       "      <th></th>\n",
       "      <th>estimator_name</th>\n",
       "      <th>run_id</th>\n",
       "      <th>start_time</th>\n",
       "      <th>end_time</th>\n",
       "      <th>duration</th>\n",
       "      <th>rmse</th>\n",
       "    </tr>\n",
       "  </thead>\n",
       "  <tbody>\n",
       "    <tr>\n",
       "      <th>0</th>\n",
       "      <td>XGBRegressor</td>\n",
       "      <td>b09242a9964c4965bc8baa572bc2103b</td>\n",
       "      <td>2024-10-20 16:25:23</td>\n",
       "      <td>2024-10-20 16:25:24</td>\n",
       "      <td>1.573</td>\n",
       "      <td>6.644320</td>\n",
       "    </tr>\n",
       "    <tr>\n",
       "      <th>1</th>\n",
       "      <td>GradientBoostingRegressor</td>\n",
       "      <td>668dbd3cd12547428e8fd65c5b4ae3d6</td>\n",
       "      <td>2024-10-20 15:51:54</td>\n",
       "      <td>2024-10-20 15:51:57</td>\n",
       "      <td>3.751</td>\n",
       "      <td>6.742303</td>\n",
       "    </tr>\n",
       "    <tr>\n",
       "      <th>2</th>\n",
       "      <td>RandomForestRegressor</td>\n",
       "      <td>3982aae14ad24edca76cf903b45350d9</td>\n",
       "      <td>2024-10-20 15:43:37</td>\n",
       "      <td>2024-10-20 15:50:44</td>\n",
       "      <td>427.166</td>\n",
       "      <td>6.914910</td>\n",
       "    </tr>\n",
       "    <tr>\n",
       "      <th>3</th>\n",
       "      <td>ExtraTreesRegressor</td>\n",
       "      <td>794703933ee54ea79264b8d27cea1959</td>\n",
       "      <td>2024-10-20 15:51:58</td>\n",
       "      <td>2024-10-20 16:14:00</td>\n",
       "      <td>1321.640</td>\n",
       "      <td>6.940427</td>\n",
       "    </tr>\n",
       "  </tbody>\n",
       "</table>\n",
       "</div>"
      ],
      "text/plain": [
       "              estimator_name                            run_id  \\\n",
       "0               XGBRegressor  b09242a9964c4965bc8baa572bc2103b   \n",
       "1  GradientBoostingRegressor  668dbd3cd12547428e8fd65c5b4ae3d6   \n",
       "2      RandomForestRegressor  3982aae14ad24edca76cf903b45350d9   \n",
       "3        ExtraTreesRegressor  794703933ee54ea79264b8d27cea1959   \n",
       "\n",
       "            start_time             end_time  duration      rmse  \n",
       "0  2024-10-20 16:25:23  2024-10-20 16:25:24     1.573  6.644320  \n",
       "1  2024-10-20 15:51:54  2024-10-20 15:51:57     3.751  6.742303  \n",
       "2  2024-10-20 15:43:37  2024-10-20 15:50:44   427.166  6.914910  \n",
       "3  2024-10-20 15:51:58  2024-10-20 16:14:00  1321.640  6.940427  "
      ]
     },
     "execution_count": 25,
     "metadata": {},
     "output_type": "execute_result"
    }
   ],
   "source": [
    "from mlflow.entities import ViewType\n",
    "\n",
    "runs = client.search_runs(\n",
    "    experiment_ids='2',\n",
    "    filter_string=\"metrics.rmse < 7\",\n",
    "    run_view_type=ViewType.ACTIVE_ONLY,\n",
    "    max_results=5,\n",
    "    order_by=[\"metrics.rmse ASC\"]\n",
    ")\n",
    "\n",
    "# Convert it on pandas dataframe format\n",
    "runs_info = []\n",
    "for run in runs:\n",
    "    runs_info.append({\n",
    "        'estimator_name':run.data.tags['estimator_name'],\n",
    "        'run_id':run.info.run_id,\n",
    "        'start_time':convert_timestamp_to_seconds(run.info.start_time),\n",
    "        'end_time':convert_timestamp_to_seconds(run.info.end_time),\n",
    "        'duration':(run.info.end_time - run.info.start_time)/1000,\n",
    "        'rmse':run.data.metrics['rmse']\n",
    "    })\n",
    "    \n",
    "runs_info_df = pd.DataFrame(runs_info)\n",
    "runs_info_df.head()"
   ]
  },
  {
   "cell_type": "markdown",
   "metadata": {},
   "source": [
    "#### Register model name in the model registry"
   ]
  },
  {
   "cell_type": "code",
   "execution_count": 35,
   "metadata": {},
   "outputs": [],
   "source": [
    "from mlflow import MlflowClient\n",
    "from mlflow.store.artifact.runs_artifact_repo import RunsArtifactRepository"
   ]
  },
  {
   "cell_type": "markdown",
   "metadata": {},
   "source": [
    "Register model name"
   ]
  },
  {
   "cell_type": "code",
   "execution_count": 36,
   "metadata": {},
   "outputs": [
    {
     "data": {
      "text/plain": [
       "<RegisteredModel: aliases={}, creation_timestamp=1729419016922, description=None, last_updated_timestamp=1729419016922, latest_versions=[], name='nyc-taxi-regressor', tags={}>"
      ]
     },
     "execution_count": 36,
     "metadata": {},
     "output_type": "execute_result"
    }
   ],
   "source": [
    "registered_model_name = 'nyc-taxi-regressor'\n",
    "\n",
    "# Register model name in the model registry\n",
    "client = MlflowClient()\n",
    "client.create_registered_model(registered_model_name)"
   ]
  },
  {
   "cell_type": "markdown",
   "metadata": {},
   "source": [
    "Create spesific version of registered model"
   ]
  },
  {
   "cell_type": "code",
   "execution_count": 42,
   "metadata": {},
   "outputs": [
    {
     "data": {
      "text/plain": [
       "<ModelVersion: aliases=[], creation_timestamp=1729419488740, current_stage='None', description='This is a GradientBoostingRegressor model', last_updated_timestamp=1729419488740, name='nyc-taxi-regressor', run_id='668dbd3cd12547428e8fd65c5b4ae3d6', run_link=None, source=('/Users/farelyue/Documents/Projects/Data '\n",
       " 'Science/mlops-zoomcamp/02-experiment-tracking/mlruns/2/668dbd3cd12547428e8fd65c5b4ae3d6/artifacts/model'), status='READY', status_message=None, tags={}, user_id=None, version=3>"
      ]
     },
     "execution_count": 42,
     "metadata": {},
     "output_type": "execute_result"
    }
   ],
   "source": [
    "# Define the run_id model we want to register\n",
    "# best_model_run_id = runs_info_df.loc[:, 'run_id'][0]\n",
    "# best_model_estimator_name = runs_info_df.loc[:, 'estimator_name'][0]\n",
    "\n",
    "best_model_run_id = runs_info_df.loc[:, 'run_id'][1]\n",
    "best_model_estimator_name = runs_info_df.loc[:, 'estimator_name'][1]\n",
    "\n",
    "# Params\n",
    "registered_model_name = 'nyc-taxi-regressor'\n",
    "runs_uri = f\"runs:/{best_model_run_id}/model\"\n",
    "model_source = RunsArtifactRepository.get_underlying_uri(runs_uri)\n",
    "description = f\"This is a {best_model_estimator_name} model\"\n",
    "\n",
    "# Crate new version of registered model\n",
    "client.create_model_version(name=registered_model_name, source=model_source, run_id=best_model_run_id, description=description)"
   ]
  },
  {
   "cell_type": "markdown",
   "metadata": {},
   "source": [
    "Delete spesific version of registered model"
   ]
  },
  {
   "cell_type": "code",
   "execution_count": 39,
   "metadata": {},
   "outputs": [],
   "source": [
    "# Define registered model and version name we want to delete\n",
    "registered_model_name = 'nyc-taxi-regressor'\n",
    "registered_model_version = '1'\n",
    "\n",
    "# Delete spesific version of registered model\n",
    "client.delete_model_version(name=registered_model_name, version=registered_model_version)"
   ]
  },
  {
   "cell_type": "markdown",
   "metadata": {},
   "source": [
    "#### List of all version of a registered model"
   ]
  },
  {
   "cell_type": "code",
   "execution_count": 47,
   "metadata": {},
   "outputs": [
    {
     "data": {
      "text/html": [
       "<div>\n",
       "<style scoped>\n",
       "    .dataframe tbody tr th:only-of-type {\n",
       "        vertical-align: middle;\n",
       "    }\n",
       "\n",
       "    .dataframe tbody tr th {\n",
       "        vertical-align: top;\n",
       "    }\n",
       "\n",
       "    .dataframe thead th {\n",
       "        text-align: right;\n",
       "    }\n",
       "</style>\n",
       "<table border=\"1\" class=\"dataframe\">\n",
       "  <thead>\n",
       "    <tr style=\"text-align: right;\">\n",
       "      <th></th>\n",
       "      <th>name</th>\n",
       "      <th>created_date</th>\n",
       "      <th>version</th>\n",
       "      <th>current_stage</th>\n",
       "      <th>description</th>\n",
       "    </tr>\n",
       "  </thead>\n",
       "  <tbody>\n",
       "    <tr>\n",
       "      <th>0</th>\n",
       "      <td>nyc-taxi-regressor</td>\n",
       "      <td>2024-10-20 17:18:08</td>\n",
       "      <td>3</td>\n",
       "      <td>None</td>\n",
       "      <td>This is a version:3 of nyc-taxi-regressor model</td>\n",
       "    </tr>\n",
       "    <tr>\n",
       "      <th>1</th>\n",
       "      <td>nyc-taxi-regressor</td>\n",
       "      <td>2024-10-20 17:16:26</td>\n",
       "      <td>2</td>\n",
       "      <td>None</td>\n",
       "      <td>This is a version:2 of nyc-taxi-regressor model</td>\n",
       "    </tr>\n",
       "  </tbody>\n",
       "</table>\n",
       "</div>"
      ],
      "text/plain": [
       "                 name         created_date  version current_stage  \\\n",
       "0  nyc-taxi-regressor  2024-10-20 17:18:08        3          None   \n",
       "1  nyc-taxi-regressor  2024-10-20 17:16:26        2          None   \n",
       "\n",
       "                                       description  \n",
       "0  This is a version:3 of nyc-taxi-regressor model  \n",
       "1  This is a version:2 of nyc-taxi-regressor model  "
      ]
     },
     "execution_count": 47,
     "metadata": {},
     "output_type": "execute_result"
    }
   ],
   "source": [
    "# List of all version\n",
    "registered_model_name = 'nyc-taxi-regressor'\n",
    "versions = client.search_model_versions(filter_string=f\"name='{registered_model_name}'\")\n",
    "\n",
    "version_info = []\n",
    "\n",
    "for version in versions:\n",
    "    version_info.append({\n",
    "        'name':version.name,\n",
    "        'created_date':convert_timestamp_to_seconds(version.creation_timestamp),\n",
    "        'version':version.version,\n",
    "        'current_stage':version.current_stage,\n",
    "        'description':version.description\n",
    "    })\n",
    "\n",
    "version_info_df = pd.DataFrame(version_info)\n",
    "version_info_df.head()"
   ]
  },
  {
   "cell_type": "markdown",
   "metadata": {},
   "source": [
    "#### Update the description of registered model version"
   ]
  },
  {
   "cell_type": "code",
   "execution_count": 46,
   "metadata": {},
   "outputs": [
    {
     "data": {
      "text/plain": [
       "<ModelVersion: aliases=[], creation_timestamp=1729419488740, current_stage='None', description='This is a version:3 of nyc-taxi-regressor model', last_updated_timestamp=1729419812414, name='nyc-taxi-regressor', run_id='668dbd3cd12547428e8fd65c5b4ae3d6', run_link=None, source=('/Users/farelyue/Documents/Projects/Data '\n",
       " 'Science/mlops-zoomcamp/02-experiment-tracking/mlruns/2/668dbd3cd12547428e8fd65c5b4ae3d6/artifacts/model'), status='READY', status_message=None, tags={}, user_id=None, version=3>"
      ]
     },
     "execution_count": 46,
     "metadata": {},
     "output_type": "execute_result"
    }
   ],
   "source": [
    "# Define registered model and version name we want to update\n",
    "registered_model_name = 'nyc-taxi-regressor'\n",
    "registered_model_version = '3'\n",
    "\n",
    "# Update the description of registered model\n",
    "client.update_model_version(\n",
    "    name = registered_model_name,\n",
    "    version = registered_model_version,\n",
    "    description = f\"This is a version:{registered_model_version} of {registered_model_name} model\"\n",
    ")"
   ]
  },
  {
   "cell_type": "markdown",
   "metadata": {},
   "source": [
    "#### Update the tag of registered model version"
   ]
  },
  {
   "cell_type": "code",
   "execution_count": 48,
   "metadata": {},
   "outputs": [],
   "source": [
    "# Define registered model and version name we want to update\n",
    "registered_model_name = 'nyc-taxi-regressor'\n",
    "registered_model_version = '3'\n",
    "\n",
    "# Update the tag of registered model\n",
    "client.set_model_version_tag(\n",
    "    name = registered_model_name,\n",
    "    version = registered_model_version,\n",
    "    key = 'estimator_name',\n",
    "    value = 'GradientBoostingRegressor'\n",
    ")"
   ]
  },
  {
   "cell_type": "markdown",
   "metadata": {},
   "source": [
    "#### Transit registered model stage"
   ]
  },
  {
   "cell_type": "code",
   "execution_count": 49,
   "metadata": {},
   "outputs": [
    {
     "name": "stderr",
     "output_type": "stream",
     "text": [
      "/var/folders/dn/slkbmvfx63d1by5lfswcxvm80000gn/T/ipykernel_19274/825854372.py:6: FutureWarning: ``mlflow.tracking.client.MlflowClient.transition_model_version_stage`` is deprecated since 2.9.0. Model registry stages will be removed in a future major release. To learn more about the deprecation of model registry stages, see our migration guide here: https://mlflow.org/docs/2.13.1/model-registry.html#migrating-from-stages\n",
      "  client.transition_model_version_stage(\n"
     ]
    },
    {
     "data": {
      "text/plain": [
       "<ModelVersion: aliases=[], creation_timestamp=1729419386781, current_stage='Production', description='This is a version:2 of nyc-taxi-regressor model', last_updated_timestamp=1729420028398, name='nyc-taxi-regressor', run_id='b09242a9964c4965bc8baa572bc2103b', run_link=None, source=('/Users/farelyue/Documents/Projects/Data '\n",
       " 'Science/mlops-zoomcamp/02-experiment-tracking/mlruns/2/b09242a9964c4965bc8baa572bc2103b/artifacts/model'), status='READY', status_message=None, tags={}, user_id=None, version=2>"
      ]
     },
     "execution_count": 49,
     "metadata": {},
     "output_type": "execute_result"
    }
   ],
   "source": [
    "# Define registered model and version name we want to transit stage\n",
    "registered_model_name = 'nyc-taxi-regressor'\n",
    "registered_model_version = '2'\n",
    "\n",
    "# Transit registered model stage from None to Production\n",
    "client.transition_model_version_stage(\n",
    "    name = registered_model_name,\n",
    "    version = registered_model_version,\n",
    "    stage = 'production',\n",
    "    archive_existing_versions = True   \n",
    ")"
   ]
  },
  {
   "cell_type": "code",
   "execution_count": 51,
   "metadata": {},
   "outputs": [
    {
     "name": "stderr",
     "output_type": "stream",
     "text": [
      "/var/folders/dn/slkbmvfx63d1by5lfswcxvm80000gn/T/ipykernel_19274/610683439.py:6: FutureWarning: ``mlflow.tracking.client.MlflowClient.transition_model_version_stage`` is deprecated since 2.9.0. Model registry stages will be removed in a future major release. To learn more about the deprecation of model registry stages, see our migration guide here: https://mlflow.org/docs/2.13.1/model-registry.html#migrating-from-stages\n",
      "  client.transition_model_version_stage(\n"
     ]
    },
    {
     "data": {
      "text/plain": [
       "<ModelVersion: aliases=[], creation_timestamp=1729419488740, current_stage='Staging', description='This is a version:3 of nyc-taxi-regressor model', last_updated_timestamp=1729420074852, name='nyc-taxi-regressor', run_id='668dbd3cd12547428e8fd65c5b4ae3d6', run_link=None, source=('/Users/farelyue/Documents/Projects/Data '\n",
       " 'Science/mlops-zoomcamp/02-experiment-tracking/mlruns/2/668dbd3cd12547428e8fd65c5b4ae3d6/artifacts/model'), status='READY', status_message=None, tags={'estimator_name': 'GradientBoostingRegressor'}, user_id=None, version=3>"
      ]
     },
     "execution_count": 51,
     "metadata": {},
     "output_type": "execute_result"
    }
   ],
   "source": [
    "# Define registered model and version name we want to transit stage\n",
    "registered_model_name = 'nyc-taxi-regressor'\n",
    "registered_model_version = '3'\n",
    "\n",
    "# Transit registered model stage from None to Production\n",
    "client.transition_model_version_stage(\n",
    "    name = registered_model_name,\n",
    "    version = registered_model_version,\n",
    "    stage = 'staging',\n",
    "    archive_existing_versions = True   \n",
    ")"
   ]
  },
  {
   "cell_type": "markdown",
   "metadata": {},
   "source": [
    "### Comparing versions and selecting the new \"Production\" model\n",
    "\n",
    "In the last section, we will retrieve models registered in the model registry and compare their performance on an unseen test set. The idea is to simulate the scenario in which a deployment engineer has to interact with the model registry to decide whether to update the model version that is in production or not.\n",
    "\n",
    "These are the steps:\n",
    "\n",
    "1. Load the test dataset, which corresponds to the NYC Green Taxi data from the month of March 2021.\n",
    "2. Download the `DictVectorizer` that was fitted using the training data and saved to MLflow as an artifact, and load it with pickle.\n",
    "3. Preprocess the test set using the `DictVectorizer` so we can properly feed the regressors.\n",
    "4. Make predictions on the test set using the model versions that are currently in the \"Staging\" and \"Production\" stages, and compare their performance.\n",
    "5. Based on the results, update the \"Production\" model version accordingly.\n",
    "\n",
    "\n",
    "**Note: the model registry doesn't actually deploy the model to production when you transition a model to the \"Production\" stage, it just assign a label to that model version. You should complement the registry with some CI/CD code that does the actual deployment.**"
   ]
  },
  {
   "cell_type": "markdown",
   "metadata": {},
   "source": [
    "#### Import the libraries"
   ]
  },
  {
   "cell_type": "code",
   "execution_count": 83,
   "metadata": {},
   "outputs": [],
   "source": [
    "# Import the libraries\n",
    "import pandas as pd\n",
    "import numpy as np\n",
    "import os\n",
    "from time import time\n",
    "\n",
    "from sklearn.metrics import root_mean_squared_error\n",
    "import mlflow\n",
    "import pickle\n",
    "\n",
    "import warnings\n",
    "warnings.filterwarnings('ignore')"
   ]
  },
  {
   "cell_type": "markdown",
   "metadata": {},
   "source": [
    "#### Helper Function"
   ]
  },
  {
   "cell_type": "code",
   "execution_count": 54,
   "metadata": {},
   "outputs": [],
   "source": [
    "# Read dataset and give scope limitation\n",
    "def read_dataframe(file_path):\n",
    "\n",
    "    # Load csv dataset\n",
    "    df = pd.read_parquet(file_path)\n",
    "\n",
    "    # Convert pick up and drop off location into string format\n",
    "    categorical = ['PULocationID', 'DOLocationID']\n",
    "    df[categorical] = df[categorical].astype(str)\n",
    "\n",
    "    # Convert pick up and drop off time column into datetime format\n",
    "    df.lpep_pickup_datetime = pd.to_datetime(df.lpep_pickup_datetime)\n",
    "    df.lpep_dropoff_datetime = pd.to_datetime(df.lpep_dropoff_datetime)\n",
    "\n",
    "    # Add duration column, differences between pick up and drop off time\n",
    "    df['duration'] = df.lpep_dropoff_datetime - df.lpep_pickup_datetime\n",
    "    \n",
    "    # Convert duration column into minute format\n",
    "    df.duration = df.duration.apply(lambda td: td.total_seconds() / 60)\n",
    "\n",
    "    # Filter duration between 1 and 60 minutes\n",
    "    df = df[(df.duration >= 1) & (df.duration <= 60)]\n",
    "    \n",
    "    return df\n",
    "\n",
    "\n",
    "# Preprocess dataset\n",
    "def preprocess(df, dv):\n",
    "    df['PU_DO'] = df['PULocationID'] + '_' + df['DOLocationID']\n",
    "    categorical = ['PU_DO']\n",
    "    numerical = ['trip_distance']\n",
    "    df_dicts = df[categorical + numerical].to_dict(orient='records')\n",
    "    dv_transformed = dv.transform(df_dicts)\n",
    "    return dv_transformed\n",
    "\n",
    "\n",
    "# Evaluate model with test dataset\n",
    "def test_model(model_name, stage, X_test, y_test):\n",
    "    model = mlflow.pyfunc.load_model(f\"models:/{model_name}/{stage}\")\n",
    "    y_pred = model.predict(X_test)\n",
    "    return {\"rmse\": root_mean_squared_error(y_test, y_pred)}"
   ]
  },
  {
   "cell_type": "markdown",
   "metadata": {},
   "source": [
    "#### Load the test dataset"
   ]
  },
  {
   "cell_type": "code",
   "execution_count": 55,
   "metadata": {},
   "outputs": [
    {
     "data": {
      "text/html": [
       "<div>\n",
       "<style scoped>\n",
       "    .dataframe tbody tr th:only-of-type {\n",
       "        vertical-align: middle;\n",
       "    }\n",
       "\n",
       "    .dataframe tbody tr th {\n",
       "        vertical-align: top;\n",
       "    }\n",
       "\n",
       "    .dataframe thead th {\n",
       "        text-align: right;\n",
       "    }\n",
       "</style>\n",
       "<table border=\"1\" class=\"dataframe\">\n",
       "  <thead>\n",
       "    <tr style=\"text-align: right;\">\n",
       "      <th></th>\n",
       "      <th>VendorID</th>\n",
       "      <th>lpep_pickup_datetime</th>\n",
       "      <th>lpep_dropoff_datetime</th>\n",
       "      <th>store_and_fwd_flag</th>\n",
       "      <th>RatecodeID</th>\n",
       "      <th>PULocationID</th>\n",
       "      <th>DOLocationID</th>\n",
       "      <th>passenger_count</th>\n",
       "      <th>trip_distance</th>\n",
       "      <th>fare_amount</th>\n",
       "      <th>...</th>\n",
       "      <th>mta_tax</th>\n",
       "      <th>tip_amount</th>\n",
       "      <th>tolls_amount</th>\n",
       "      <th>ehail_fee</th>\n",
       "      <th>improvement_surcharge</th>\n",
       "      <th>total_amount</th>\n",
       "      <th>payment_type</th>\n",
       "      <th>trip_type</th>\n",
       "      <th>congestion_surcharge</th>\n",
       "      <th>duration</th>\n",
       "    </tr>\n",
       "  </thead>\n",
       "  <tbody>\n",
       "    <tr>\n",
       "      <th>0</th>\n",
       "      <td>2</td>\n",
       "      <td>2021-03-01 00:05:42</td>\n",
       "      <td>2021-03-01 00:14:03</td>\n",
       "      <td>N</td>\n",
       "      <td>1.0</td>\n",
       "      <td>83</td>\n",
       "      <td>129</td>\n",
       "      <td>1.0</td>\n",
       "      <td>1.56</td>\n",
       "      <td>7.5</td>\n",
       "      <td>...</td>\n",
       "      <td>0.5</td>\n",
       "      <td>0.00</td>\n",
       "      <td>0.0</td>\n",
       "      <td>None</td>\n",
       "      <td>0.3</td>\n",
       "      <td>8.80</td>\n",
       "      <td>1.0</td>\n",
       "      <td>1.0</td>\n",
       "      <td>0.0</td>\n",
       "      <td>8.350000</td>\n",
       "    </tr>\n",
       "    <tr>\n",
       "      <th>1</th>\n",
       "      <td>2</td>\n",
       "      <td>2021-03-01 00:21:03</td>\n",
       "      <td>2021-03-01 00:26:17</td>\n",
       "      <td>N</td>\n",
       "      <td>1.0</td>\n",
       "      <td>243</td>\n",
       "      <td>235</td>\n",
       "      <td>1.0</td>\n",
       "      <td>0.96</td>\n",
       "      <td>6.0</td>\n",
       "      <td>...</td>\n",
       "      <td>0.5</td>\n",
       "      <td>0.00</td>\n",
       "      <td>0.0</td>\n",
       "      <td>None</td>\n",
       "      <td>0.3</td>\n",
       "      <td>7.30</td>\n",
       "      <td>2.0</td>\n",
       "      <td>1.0</td>\n",
       "      <td>0.0</td>\n",
       "      <td>5.233333</td>\n",
       "    </tr>\n",
       "    <tr>\n",
       "      <th>2</th>\n",
       "      <td>2</td>\n",
       "      <td>2021-03-01 00:02:06</td>\n",
       "      <td>2021-03-01 00:22:26</td>\n",
       "      <td>N</td>\n",
       "      <td>1.0</td>\n",
       "      <td>75</td>\n",
       "      <td>242</td>\n",
       "      <td>1.0</td>\n",
       "      <td>9.93</td>\n",
       "      <td>28.0</td>\n",
       "      <td>...</td>\n",
       "      <td>0.5</td>\n",
       "      <td>2.00</td>\n",
       "      <td>0.0</td>\n",
       "      <td>None</td>\n",
       "      <td>0.3</td>\n",
       "      <td>31.30</td>\n",
       "      <td>1.0</td>\n",
       "      <td>1.0</td>\n",
       "      <td>0.0</td>\n",
       "      <td>20.333333</td>\n",
       "    </tr>\n",
       "    <tr>\n",
       "      <th>3</th>\n",
       "      <td>2</td>\n",
       "      <td>2021-03-01 00:24:03</td>\n",
       "      <td>2021-03-01 00:31:43</td>\n",
       "      <td>N</td>\n",
       "      <td>1.0</td>\n",
       "      <td>242</td>\n",
       "      <td>208</td>\n",
       "      <td>1.0</td>\n",
       "      <td>2.57</td>\n",
       "      <td>9.5</td>\n",
       "      <td>...</td>\n",
       "      <td>0.5</td>\n",
       "      <td>0.00</td>\n",
       "      <td>0.0</td>\n",
       "      <td>None</td>\n",
       "      <td>0.3</td>\n",
       "      <td>10.80</td>\n",
       "      <td>2.0</td>\n",
       "      <td>1.0</td>\n",
       "      <td>0.0</td>\n",
       "      <td>7.666667</td>\n",
       "    </tr>\n",
       "    <tr>\n",
       "      <th>4</th>\n",
       "      <td>1</td>\n",
       "      <td>2021-03-01 00:11:10</td>\n",
       "      <td>2021-03-01 00:14:46</td>\n",
       "      <td>N</td>\n",
       "      <td>1.0</td>\n",
       "      <td>41</td>\n",
       "      <td>151</td>\n",
       "      <td>1.0</td>\n",
       "      <td>0.80</td>\n",
       "      <td>5.0</td>\n",
       "      <td>...</td>\n",
       "      <td>0.5</td>\n",
       "      <td>1.85</td>\n",
       "      <td>0.0</td>\n",
       "      <td>None</td>\n",
       "      <td>0.3</td>\n",
       "      <td>8.15</td>\n",
       "      <td>1.0</td>\n",
       "      <td>1.0</td>\n",
       "      <td>0.0</td>\n",
       "      <td>3.600000</td>\n",
       "    </tr>\n",
       "  </tbody>\n",
       "</table>\n",
       "<p>5 rows × 21 columns</p>\n",
       "</div>"
      ],
      "text/plain": [
       "   VendorID lpep_pickup_datetime lpep_dropoff_datetime store_and_fwd_flag  \\\n",
       "0         2  2021-03-01 00:05:42   2021-03-01 00:14:03                  N   \n",
       "1         2  2021-03-01 00:21:03   2021-03-01 00:26:17                  N   \n",
       "2         2  2021-03-01 00:02:06   2021-03-01 00:22:26                  N   \n",
       "3         2  2021-03-01 00:24:03   2021-03-01 00:31:43                  N   \n",
       "4         1  2021-03-01 00:11:10   2021-03-01 00:14:46                  N   \n",
       "\n",
       "   RatecodeID PULocationID DOLocationID  passenger_count  trip_distance  \\\n",
       "0         1.0           83          129              1.0           1.56   \n",
       "1         1.0          243          235              1.0           0.96   \n",
       "2         1.0           75          242              1.0           9.93   \n",
       "3         1.0          242          208              1.0           2.57   \n",
       "4         1.0           41          151              1.0           0.80   \n",
       "\n",
       "   fare_amount  ...  mta_tax  tip_amount  tolls_amount  ehail_fee  \\\n",
       "0          7.5  ...      0.5        0.00           0.0       None   \n",
       "1          6.0  ...      0.5        0.00           0.0       None   \n",
       "2         28.0  ...      0.5        2.00           0.0       None   \n",
       "3          9.5  ...      0.5        0.00           0.0       None   \n",
       "4          5.0  ...      0.5        1.85           0.0       None   \n",
       "\n",
       "  improvement_surcharge  total_amount  payment_type  trip_type  \\\n",
       "0                   0.3          8.80           1.0        1.0   \n",
       "1                   0.3          7.30           2.0        1.0   \n",
       "2                   0.3         31.30           1.0        1.0   \n",
       "3                   0.3         10.80           2.0        1.0   \n",
       "4                   0.3          8.15           1.0        1.0   \n",
       "\n",
       "   congestion_surcharge   duration  \n",
       "0                   0.0   8.350000  \n",
       "1                   0.0   5.233333  \n",
       "2                   0.0  20.333333  \n",
       "3                   0.0   7.666667  \n",
       "4                   0.0   3.600000  \n",
       "\n",
       "[5 rows x 21 columns]"
      ]
     },
     "execution_count": 55,
     "metadata": {},
     "output_type": "execute_result"
    }
   ],
   "source": [
    "# Load the test dataset\n",
    "df_test = read_dataframe(\"./data/green_tripdata_2021-03.parquet\")\n",
    "df_test.head()"
   ]
  },
  {
   "cell_type": "code",
   "execution_count": 58,
   "metadata": {},
   "outputs": [
    {
     "data": {
      "text/html": [
       "<div>\n",
       "<style scoped>\n",
       "    .dataframe tbody tr th:only-of-type {\n",
       "        vertical-align: middle;\n",
       "    }\n",
       "\n",
       "    .dataframe tbody tr th {\n",
       "        vertical-align: top;\n",
       "    }\n",
       "\n",
       "    .dataframe thead th {\n",
       "        text-align: right;\n",
       "    }\n",
       "</style>\n",
       "<table border=\"1\" class=\"dataframe\">\n",
       "  <thead>\n",
       "    <tr style=\"text-align: right;\">\n",
       "      <th></th>\n",
       "      <th>name</th>\n",
       "      <th>created_date</th>\n",
       "      <th>version</th>\n",
       "      <th>current_stage</th>\n",
       "      <th>description</th>\n",
       "      <th>run_id</th>\n",
       "    </tr>\n",
       "  </thead>\n",
       "  <tbody>\n",
       "    <tr>\n",
       "      <th>0</th>\n",
       "      <td>nyc-taxi-regressor</td>\n",
       "      <td>2024-10-20 17:18:08</td>\n",
       "      <td>3</td>\n",
       "      <td>Staging</td>\n",
       "      <td>This is a version:3 of nyc-taxi-regressor model</td>\n",
       "      <td>668dbd3cd12547428e8fd65c5b4ae3d6</td>\n",
       "    </tr>\n",
       "    <tr>\n",
       "      <th>1</th>\n",
       "      <td>nyc-taxi-regressor</td>\n",
       "      <td>2024-10-20 17:16:26</td>\n",
       "      <td>2</td>\n",
       "      <td>Production</td>\n",
       "      <td>This is a version:2 of nyc-taxi-regressor model</td>\n",
       "      <td>b09242a9964c4965bc8baa572bc2103b</td>\n",
       "    </tr>\n",
       "  </tbody>\n",
       "</table>\n",
       "</div>"
      ],
      "text/plain": [
       "                 name         created_date  version current_stage  \\\n",
       "0  nyc-taxi-regressor  2024-10-20 17:18:08        3       Staging   \n",
       "1  nyc-taxi-regressor  2024-10-20 17:16:26        2    Production   \n",
       "\n",
       "                                       description  \\\n",
       "0  This is a version:3 of nyc-taxi-regressor model   \n",
       "1  This is a version:2 of nyc-taxi-regressor model   \n",
       "\n",
       "                             run_id  \n",
       "0  668dbd3cd12547428e8fd65c5b4ae3d6  \n",
       "1  b09242a9964c4965bc8baa572bc2103b  "
      ]
     },
     "execution_count": 58,
     "metadata": {},
     "output_type": "execute_result"
    }
   ],
   "source": [
    "# Initialize Mlfow Client\n",
    "client = MlflowClient()\n",
    "\n",
    "# List of all version\n",
    "registered_model_name = 'nyc-taxi-regressor'\n",
    "versions = client.search_model_versions(filter_string=f\"name='{registered_model_name}'\")\n",
    "\n",
    "version_info = []\n",
    "\n",
    "for version in versions:\n",
    "    version_info.append({\n",
    "        'name':version.name,\n",
    "        'created_date':convert_timestamp_to_seconds(version.creation_timestamp),\n",
    "        'version':version.version,\n",
    "        'current_stage':version.current_stage,\n",
    "        'description':version.description,\n",
    "        'run_id':version.run_id\n",
    "    })\n",
    "\n",
    "version_info_df = pd.DataFrame(version_info)\n",
    "version_info_df.head()"
   ]
  },
  {
   "cell_type": "markdown",
   "metadata": {},
   "source": [
    "#### Download the vectorizer preprocessor"
   ]
  },
  {
   "cell_type": "markdown",
   "metadata": {},
   "source": [
    "Download the vectorizer"
   ]
  },
  {
   "cell_type": "code",
   "execution_count": 70,
   "metadata": {},
   "outputs": [
    {
     "data": {
      "application/vnd.jupyter.widget-view+json": {
       "model_id": "c58c75fb3db94177a9cc698a16f6fa96",
       "version_major": 2,
       "version_minor": 0
      },
      "text/plain": [
       "Downloading artifacts:   0%|          | 0/1 [00:00<?, ?it/s]"
      ]
     },
     "metadata": {},
     "output_type": "display_data"
    },
    {
     "data": {
      "text/plain": [
       "'/Users/farelyue/Documents/Projects/Data Science/mlops-zoomcamp/02-experiment-tracking/models/preprocessor'"
      ]
     },
     "execution_count": 70,
     "metadata": {},
     "output_type": "execute_result"
    }
   ],
   "source": [
    "# Define registered model, version name, run id we want to transit load\n",
    "registered_model_name = version_info_df.loc[:, 'name'].values[0]\n",
    "registered_model_version = version_info_df.loc[version_info_df['current_stage'] == 'Production', 'version'].values[0]\n",
    "registered_model_run_id = version_info_df.loc[version_info_df['version'] == registered_model_version, 'run_id'].values[0]\n",
    "\n",
    "# Download the vectorizer preprocessor\n",
    "os.makedirs('models', exist_ok=True)\n",
    "client.download_artifacts(run_id=registered_model_run_id, path='preprocessor', dst_path='models')"
   ]
  },
  {
   "cell_type": "markdown",
   "metadata": {},
   "source": [
    "Load the vectorizer"
   ]
  },
  {
   "cell_type": "code",
   "execution_count": 72,
   "metadata": {},
   "outputs": [],
   "source": [
    "# Load the vectorizer preprocessor\n",
    "with open('models/preprocessor/preprocessor.b', 'rb') as f_in:\n",
    "    dv = pickle.load(f_in)"
   ]
  },
  {
   "cell_type": "markdown",
   "metadata": {},
   "source": [
    "Load the production model version"
   ]
  },
  {
   "cell_type": "code",
   "execution_count": 84,
   "metadata": {},
   "outputs": [
    {
     "name": "stdout",
     "output_type": "stream",
     "text": [
      "CPU times: user 290 ms, sys: 24.2 ms, total: 314 ms\n",
      "Wall time: 56.4 ms\n"
     ]
    },
    {
     "data": {
      "text/plain": [
       "{'rmse': 6.57711317277908}"
      ]
     },
     "execution_count": 84,
     "metadata": {},
     "output_type": "execute_result"
    }
   ],
   "source": [
    "# Transform feature test dataset using vectorizer and define target value\n",
    "target = 'duration'\n",
    "X_test = preprocess(df_test, dv)\n",
    "y_test = df_test[target].values\n",
    "\n",
    "# Define the model name and stage of registered model\n",
    "registered_model_name = 'nyc-taxi-regressor'\n",
    "stage = 'Production'\n",
    "\n",
    "# Evaluate model on test dataset\n",
    "%time test_model(model_name=registered_model_name, stage=stage, X_test=X_test, y_test=y_test)"
   ]
  },
  {
   "cell_type": "markdown",
   "metadata": {},
   "source": [
    "Load the staging model version"
   ]
  },
  {
   "cell_type": "code",
   "execution_count": 85,
   "metadata": {},
   "outputs": [
    {
     "name": "stdout",
     "output_type": "stream",
     "text": [
      "CPU times: user 75.4 ms, sys: 2.32 ms, total: 77.7 ms\n",
      "Wall time: 78 ms\n"
     ]
    },
    {
     "data": {
      "text/plain": [
       "{'rmse': 6.659623830022515}"
      ]
     },
     "execution_count": 85,
     "metadata": {},
     "output_type": "execute_result"
    }
   ],
   "source": [
    "# Transform feature test dataset using vectorizer and define target value\n",
    "target = 'duration'\n",
    "X_test = preprocess(df_test, dv)\n",
    "y_test = df_test[target].values\n",
    "\n",
    "# Define the model name and stage of registered model\n",
    "registered_model_name = 'nyc-taxi-regressor'\n",
    "stage = 'Staging'\n",
    "\n",
    "# Evaluate model on test dataset\n",
    "%time test_model(model_name=registered_model_name, stage=stage, X_test=X_test, y_test=y_test)"
   ]
  }
 ],
 "metadata": {
  "kernelspec": {
   "display_name": "exp-tracking",
   "language": "python",
   "name": "python3"
  },
  "language_info": {
   "codemirror_mode": {
    "name": "ipython",
    "version": 3
   },
   "file_extension": ".py",
   "mimetype": "text/x-python",
   "name": "python",
   "nbconvert_exporter": "python",
   "pygments_lexer": "ipython3",
   "version": "3.9.19"
  },
  "orig_nbformat": 4
 },
 "nbformat": 4,
 "nbformat_minor": 2
}
