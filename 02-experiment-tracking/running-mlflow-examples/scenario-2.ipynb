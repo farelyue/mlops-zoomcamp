{
 "cells": [
  {
   "cell_type": "markdown",
   "metadata": {},
   "source": [
    "## Scenario 2: A cross-functional team with one data scientist working on an ML model\n",
    "\n",
    "\n",
    "MLflow setup:\n",
    "- tracking server: yes, local server\n",
    "- backend store: sqlite database\n",
    "- artifacts store: local filesystem\n",
    "\n",
    "The experiments can be explored locally by accessing the local tracking server.\n",
    "\n",
    "To run this example you need to launch the mlflow server locally by running the following command in your terminal:\n",
    "\n",
    "`mlflow server --backend-store-uri sqlite:///backend.db`"
   ]
  },
  {
   "cell_type": "markdown",
   "metadata": {},
   "source": [
    "#### Import the libraries"
   ]
  },
  {
   "cell_type": "code",
   "execution_count": 1,
   "metadata": {},
   "outputs": [],
   "source": [
    "# Import the libraries\n",
    "import pandas as pd\n",
    "import numpy as np\n",
    "\n",
    "from sklearn.linear_model import LogisticRegression\n",
    "from sklearn.datasets import load_iris\n",
    "from sklearn.metrics import accuracy_score\n",
    "\n",
    "import mlflow\n",
    "from mlflow.tracking import MlflowClient\n",
    "from mlflow.exceptions import MlflowException\n",
    "from mlflow.store.artifact.runs_artifact_repo import RunsArtifactRepository"
   ]
  },
  {
   "cell_type": "markdown",
   "metadata": {},
   "source": [
    "#### Set up tracking URI"
   ]
  },
  {
   "cell_type": "code",
   "execution_count": 2,
   "metadata": {},
   "outputs": [
    {
     "name": "stdout",
     "output_type": "stream",
     "text": [
      "tracking URI: 'http://127.0.0.1:5000'\n"
     ]
    }
   ],
   "source": [
    "# Display default tracking uri\n",
    "MLFLOW_TRACKING_URI = \"http://127.0.0.1:5000\"\n",
    "mlflow.set_tracking_uri(MLFLOW_TRACKING_URI)\n",
    "print(f\"tracking URI: '{mlflow.get_tracking_uri()}'\")"
   ]
  },
  {
   "cell_type": "markdown",
   "metadata": {},
   "source": [
    "#### List down all experiments"
   ]
  },
  {
   "cell_type": "code",
   "execution_count": 3,
   "metadata": {},
   "outputs": [
    {
     "name": "stdout",
     "output_type": "stream",
     "text": [
      "experiment id : 0, experiment name : Default\n"
     ]
    }
   ],
   "source": [
    "# Lost down all experiments before do an experiment\n",
    "experiments = mlflow.search_experiments()\n",
    "for experiment in experiments:\n",
    "    print(f\"experiment id : {experiment.experiment_id}, experiment name : {experiment.name}\")"
   ]
  },
  {
   "cell_type": "markdown",
   "metadata": {},
   "source": [
    "#### Creating an experiment and logging new run"
   ]
  },
  {
   "cell_type": "code",
   "execution_count": 4,
   "metadata": {},
   "outputs": [
    {
     "name": "stderr",
     "output_type": "stream",
     "text": [
      "2024/10/24 08:38:43 INFO mlflow.tracking.fluent: Experiment with name 'exp_scenario_2' does not exist. Creating a new experiment.\n"
     ]
    },
    {
     "name": "stdout",
     "output_type": "stream",
     "text": [
      "default artifacts URI: 'mlflow-artifacts:/1/df13eed1c7764a63ab67ec55ecb2fb36/artifacts'\n"
     ]
    }
   ],
   "source": [
    "# Create a new experiment\n",
    "mlflow.set_experiment(\"exp_scenario_2\")\n",
    "\n",
    "# Track our training model process\n",
    "with mlflow.start_run():\n",
    "\n",
    "    # Load iris dataset\n",
    "    X, y = load_iris(return_X_y=True)\n",
    "\n",
    "    # Log the params\n",
    "    params = {\"C\": 0.1, \"random_state\": 42}\n",
    "    mlflow.log_params(params)\n",
    "\n",
    "    # Training model\n",
    "    lr = LogisticRegression(**params).fit(X, y)\n",
    "    y_pred = lr.predict(X)\n",
    "\n",
    "    # Log the metrics\n",
    "    mlflow.log_metric(\"accuracy\", accuracy_score(y, y_pred))\n",
    "\n",
    "    # Log the model\n",
    "    mlflow.sklearn.log_model(lr, artifact_path=\"models\")\n",
    "    \n",
    "    # Display the artifact uri\n",
    "    print(f\"default artifacts URI: '{mlflow.get_artifact_uri()}'\")"
   ]
  },
  {
   "cell_type": "code",
   "execution_count": 5,
   "metadata": {},
   "outputs": [
    {
     "name": "stdout",
     "output_type": "stream",
     "text": [
      "experiment id : 1, experiment name : exp_scenario_2\n",
      "experiment id : 0, experiment name : Default\n"
     ]
    }
   ],
   "source": [
    "# List down all experiments after do an experiment\n",
    "experiments = mlflow.search_experiments()\n",
    "for experiment in experiments:\n",
    "    print(f\"experiment id : {experiment.experiment_id}, experiment name : {experiment.name}\")"
   ]
  },
  {
   "cell_type": "markdown",
   "metadata": {},
   "source": [
    "### Interacting with the model registry"
   ]
  },
  {
   "cell_type": "markdown",
   "metadata": {},
   "source": [
    "Register new model"
   ]
  },
  {
   "cell_type": "code",
   "execution_count": 6,
   "metadata": {},
   "outputs": [
    {
     "data": {
      "text/plain": [
       "<RegisteredModel: aliases={}, creation_timestamp=1729733936360, description='', last_updated_timestamp=1729733936360, latest_versions=[], name='scenario_2', tags={}>"
      ]
     },
     "execution_count": 6,
     "metadata": {},
     "output_type": "execute_result"
    }
   ],
   "source": [
    "# Instantiate client for manage experiments and runs\n",
    "MLFLOW_TRACKING_URI = \"http://127.0.0.1:5000\"\n",
    "client = MlflowClient(MLFLOW_TRACKING_URI)\n",
    "\n",
    "# Register model name in the model registry\n",
    "registered_model_name = 'scenario_2'\n",
    "client.create_registered_model(name=registered_model_name)"
   ]
  },
  {
   "cell_type": "markdown",
   "metadata": {},
   "source": [
    "Create new version of registered model"
   ]
  },
  {
   "cell_type": "code",
   "execution_count": 7,
   "metadata": {},
   "outputs": [
    {
     "name": "stderr",
     "output_type": "stream",
     "text": [
      "2024/10/24 08:39:04 INFO mlflow.store.model_registry.abstract_store: Waiting up to 300 seconds for model version to finish creation. Model name: scenario_2, version 1\n"
     ]
    },
    {
     "data": {
      "text/plain": [
       "<ModelVersion: aliases=[], creation_timestamp=1729733944448, current_stage='None', description='new version of scenario_2 model', last_updated_timestamp=1729733944448, name='scenario_2', run_id='df13eed1c7764a63ab67ec55ecb2fb36', run_link='', source='mlflow-artifacts:/1/df13eed1c7764a63ab67ec55ecb2fb36/artifacts/models', status='READY', status_message='', tags={}, user_id='', version='1'>"
      ]
     },
     "execution_count": 7,
     "metadata": {},
     "output_type": "execute_result"
    }
   ],
   "source": [
    "# Get experiment id by experiment name\n",
    "experiment_name = 'exp_scenario_2'\n",
    "experiment = mlflow.get_experiment_by_name(name=experiment_name)\n",
    "experiment_id = experiment.experiment_id\n",
    "\n",
    "# Get run id\n",
    "run_id = mlflow.search_runs(experiment_ids=experiment_id)['run_id'].values[0]\n",
    "\n",
    "# Run URI\n",
    "runs_uri =f\"runs:/{run_id}/models\"\n",
    "\n",
    "# Source artifacts\n",
    "model_src = RunsArtifactRepository.get_underlying_uri(runs_uri)\n",
    "\n",
    "# Description of the model version\n",
    "desc = 'new version of scenario_2 model'\n",
    "\n",
    "# Create a new model version\n",
    "client.create_model_version(name=registered_model_name, source=model_src, run_id=run_id, description=desc)"
   ]
  }
 ],
 "metadata": {
  "kernelspec": {
   "display_name": "exp-tracking",
   "language": "python",
   "name": "python3"
  },
  "language_info": {
   "codemirror_mode": {
    "name": "ipython",
    "version": 3
   },
   "file_extension": ".py",
   "mimetype": "text/x-python",
   "name": "python",
   "nbconvert_exporter": "python",
   "pygments_lexer": "ipython3",
   "version": "3.9.19"
  },
  "orig_nbformat": 4
 },
 "nbformat": 4,
 "nbformat_minor": 2
}
